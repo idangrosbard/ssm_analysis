{
 "cells": [
  {
   "cell_type": "markdown",
   "id": "a89a3105-9b73-445a-a790-fbf19d8f8cab",
   "metadata": {
    "jp-MarkdownHeadingCollapsed": true
   },
   "source": [
    "# Setup"
   ]
  },
  {
   "cell_type": "code",
   "execution_count": null,
   "id": "1196bf02-2744-4c7b-b0ad-133acc167f1c",
   "metadata": {},
   "outputs": [],
   "source": [
    "import os\n",
    "import numpy as np\n",
    "import pandas as pd\n",
    "import matplotlib.pyplot as plt\n",
    "import seaborn as sns"
   ]
  },
  {
   "cell_type": "markdown",
   "id": "8bbeb7e7-0328-4ede-9ebc-f1e265049d70",
   "metadata": {
    "jp-MarkdownHeadingCollapsed": true
   },
   "source": [
    "# Comparison"
   ]
  },
  {
   "cell_type": "code",
   "execution_count": null,
   "id": "5769ba2d-760e-4582-9c98-497352545d54",
   "metadata": {},
   "outputs": [],
   "source": [
    "original_res = pd.read_parquet('entire_results_original.parquet')\n",
    "attn_res = pd.read_parquet('entire_results_attention.parquet')"
   ]
  },
  {
   "cell_type": "code",
   "execution_count": null,
   "id": "3525eb69-48fb-4a7a-b73f-7cfb83f9e6d3",
   "metadata": {},
   "outputs": [],
   "source": [
    "print(\"Original hits:\")\n",
    "print(original_res['hit'].sum())\n",
    "print(\"Original accuracy:\")\n",
    "print(original_res['hit'].mean())"
   ]
  },
  {
   "cell_type": "code",
   "execution_count": null,
   "id": "90feca4d-e467-43fe-a34b-9be2818327f5",
   "metadata": {},
   "outputs": [],
   "source": [
    "print(\"Attention hits:\")\n",
    "print(attn_res['hit'].sum())\n",
    "print(\"Attention accuracy:\")\n",
    "print(attn_res['hit'].mean())"
   ]
  },
  {
   "cell_type": "code",
   "execution_count": null,
   "id": "65c63e81-1fc9-40a7-a05e-c59d068fdf93",
   "metadata": {},
   "outputs": [],
   "source": [
    "attn_res['true_prob_diff'] = attn_res['true_prob'] - original_res['true_prob']"
   ]
  },
  {
   "cell_type": "code",
   "execution_count": null,
   "id": "4e2f3f97-40b5-4ec7-ac91-2f3d83e7eee1",
   "metadata": {},
   "outputs": [],
   "source": [
    "print(f'Difference in probabilities for true label:')\n",
    "print('Mean:')\n",
    "print(attn_res['true_prob_diff'].mean())\n",
    "print('Max:')\n",
    "print(attn_res['true_prob_diff'].max())\n",
    "print('Min:')\n",
    "print(attn_res['true_prob_diff'].min())\n",
    "print(\"Count of abs. larger than 0.1:\")\n",
    "print((attn_res['true_prob_diff'].abs() > 0.1).sum())"
   ]
  },
  {
   "cell_type": "code",
   "execution_count": null,
   "id": "e15f1fca-9aec-44a4-b0c8-31274a66c3f3",
   "metadata": {},
   "outputs": [],
   "source": [
    "sns.violinplot(data=attn_res['true_prob_diff'])\n",
    "plt.title('Violin Plot of True Label Probability Differences')\n",
    "plt.xlabel('Difference')\n",
    "plt.show()"
   ]
  },
  {
   "cell_type": "code",
   "execution_count": null,
   "id": "3e4adbae-b678-4764-8568-5bf9c045b710",
   "metadata": {},
   "outputs": [],
   "source": [
    "attn_res['pred_prob_diff'] = attn_res['max_prob'] - original_res['max_prob']"
   ]
  },
  {
   "cell_type": "code",
   "execution_count": null,
   "id": "f3677db8-394e-4edf-b0c7-ef76f188ef60",
   "metadata": {},
   "outputs": [],
   "source": [
    "print(f'Difference in probabilities for false label:')\n",
    "print('Mean:')\n",
    "print(attn_res['pred_prob_diff'].mean())\n",
    "print('Max:')\n",
    "print(attn_res['pred_prob_diff'].max())\n",
    "print('Min:')\n",
    "print(attn_res['pred_prob_diff'].min())\n",
    "print(\"Count of abs. larger than 0.1:\")\n",
    "print((attn_res['pred_prob_diff'].abs() > 0.1).sum())"
   ]
  },
  {
   "cell_type": "code",
   "execution_count": null,
   "id": "1dc9da26-7aa1-411b-9f98-84a6707f3e84",
   "metadata": {},
   "outputs": [],
   "source": [
    "sns.violinplot(data=attn_res['pred_prob_diff'])\n",
    "plt.title('Violin Plot of Predicted Label Probability Differences')\n",
    "plt.xlabel('Difference')\n",
    "plt.show()"
   ]
  },
  {
   "cell_type": "code",
   "execution_count": null,
   "id": "dccb5e59-7d92-4577-8b35-4e1bc0ee3b1f",
   "metadata": {},
   "outputs": [],
   "source": [
    "print(\"Mismatch in hits count:\")\n",
    "print((attn_res['hit'] ^ original_res['hit']).sum())"
   ]
  },
  {
   "cell_type": "code",
   "execution_count": null,
   "id": "d0b9ecbd-bb39-49b6-96c5-e6e22ce8bc40",
   "metadata": {},
   "outputs": [],
   "source": [
    "print(\"Mismatch total count:\")\n",
    "print((attn_res['pred'] != original_res['pred']).sum())"
   ]
  }
 ],
 "metadata": {
  "kernelspec": {
   "display_name": "Python 3 (ipykernel)",
   "language": "python",
   "name": "python3"
  },
  "language_info": {
   "codemirror_mode": {
    "name": "ipython",
    "version": 3
   },
   "file_extension": ".py",
   "mimetype": "text/x-python",
   "name": "python",
   "nbconvert_exporter": "python",
   "pygments_lexer": "ipython3",
   "version": "3.10.14"
  }
 },
 "nbformat": 4,
 "nbformat_minor": 5
}
