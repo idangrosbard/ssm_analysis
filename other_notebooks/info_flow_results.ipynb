{
 "cells": [
  {
   "cell_type": "markdown",
   "id": "d3b8fa55-2614-4037-ae18-b2efe56327b9",
   "metadata": {
    "jp-MarkdownHeadingCollapsed": true
   },
   "source": [
    "# Imports"
   ]
  },
  {
   "cell_type": "code",
   "execution_count": 1,
   "id": "6b7198b1",
   "metadata": {},
   "outputs": [
    {
     "data": {
      "text/plain": [
       "<torch.autograd.grad_mode.set_grad_enabled at 0x7358f77bea50>"
      ]
     },
     "execution_count": 1,
     "metadata": {},
     "output_type": "execute_result"
    }
   ],
   "source": [
    "import os\n",
    "import time\n",
    "import numpy as np\n",
    "import pandas as pd\n",
    "import matplotlib.pyplot as plt\n",
    "import seaborn as sns\n",
    "import torch\n",
    "torch.set_grad_enabled(False)"
   ]
  },
  {
   "cell_type": "code",
   "execution_count": 2,
   "id": "59c07c48",
   "metadata": {},
   "outputs": [
    {
     "name": "stderr",
     "output_type": "stream",
     "text": [
      "/home/yandex/DL20232024a/nirendy/repos/ADL_2/venv/lib/python3.12/site-packages/mamba_ssm/ops/selective_scan_interface.py:163: FutureWarning: `torch.cuda.amp.custom_fwd(args...)` is deprecated. Please use `torch.amp.custom_fwd(args..., device_type='cuda')` instead.\n",
      "  @custom_fwd\n",
      "/home/yandex/DL20232024a/nirendy/repos/ADL_2/venv/lib/python3.12/site-packages/mamba_ssm/ops/selective_scan_interface.py:239: FutureWarning: `torch.cuda.amp.custom_bwd(args...)` is deprecated. Please use `torch.amp.custom_bwd(args..., device_type='cuda')` instead.\n",
      "  @custom_bwd\n",
      "/home/yandex/DL20232024a/nirendy/repos/ADL_2/venv/lib/python3.12/site-packages/mamba_ssm/ops/triton/layer_norm.py:985: FutureWarning: `torch.cuda.amp.custom_fwd(args...)` is deprecated. Please use `torch.amp.custom_fwd(args..., device_type='cuda')` instead.\n",
      "  @custom_fwd\n",
      "/home/yandex/DL20232024a/nirendy/repos/ADL_2/venv/lib/python3.12/site-packages/mamba_ssm/ops/triton/layer_norm.py:1044: FutureWarning: `torch.cuda.amp.custom_bwd(args...)` is deprecated. Please use `torch.amp.custom_bwd(args..., device_type='cuda')` instead.\n",
      "  @custom_bwd\n",
      "/home/yandex/DL20232024a/nirendy/repos/ADL_2/venv/lib/python3.12/site-packages/mamba_ssm/distributed/tensor_parallel.py:25: FutureWarning: `torch.cuda.amp.custom_fwd(args...)` is deprecated. Please use `torch.amp.custom_fwd(args..., device_type='cuda')` instead.\n",
      "  @custom_fwd\n",
      "/home/yandex/DL20232024a/nirendy/repos/ADL_2/venv/lib/python3.12/site-packages/mamba_ssm/distributed/tensor_parallel.py:61: FutureWarning: `torch.cuda.amp.custom_bwd(args...)` is deprecated. Please use `torch.amp.custom_bwd(args..., device_type='cuda')` instead.\n",
      "  @custom_bwd\n",
      "/home/yandex/DL20232024a/nirendy/repos/ADL_2/venv/lib/python3.12/site-packages/mamba_ssm/ops/triton/ssd_combined.py:757: FutureWarning: `torch.cuda.amp.custom_fwd(args...)` is deprecated. Please use `torch.amp.custom_fwd(args..., device_type='cuda')` instead.\n",
      "  @custom_fwd\n",
      "/home/yandex/DL20232024a/nirendy/repos/ADL_2/venv/lib/python3.12/site-packages/mamba_ssm/ops/triton/ssd_combined.py:835: FutureWarning: `torch.cuda.amp.custom_bwd(args...)` is deprecated. Please use `torch.amp.custom_bwd(args..., device_type='cuda')` instead.\n",
      "  @custom_bwd\n"
     ]
    }
   ],
   "source": [
    "\n",
    "from src.consts import FILTERATIONS\n",
    "from src.datasets.download_dataset import load_splitted_counter_fact\n",
    "from tqdm import tqdm\n",
    "from src.types import MODEL_ARCH\n",
    "from src.models.model_interface import get_model_interface\n"
   ]
  },
  {
   "cell_type": "code",
   "execution_count": 3,
   "id": "93e52b91-09b1-481c-b2c2-d70c59e456d8",
   "metadata": {},
   "outputs": [],
   "source": [
    "n_layers = 48\n",
    "window_sizes = [9, 15]"
   ]
  },
  {
   "cell_type": "markdown",
   "id": "a3e6b590-ee7f-4afa-a574-bde6bf9cc372",
   "metadata": {
    "jp-MarkdownHeadingCollapsed": true
   },
   "source": [
    "# Overall results"
   ]
  },
  {
   "cell_type": "code",
   "execution_count": 4,
   "id": "1ddf206d-cc68-472c-afc4-5124bf3bf605",
   "metadata": {},
   "outputs": [
    {
     "ename": "FileNotFoundError",
     "evalue": "[Errno 2] No such file or directory: 'block_last_acc_ws=9.parquet'",
     "output_type": "error",
     "traceback": [
      "\u001b[0;31m---------------------------------------------------------------------------\u001b[0m",
      "\u001b[0;31mFileNotFoundError\u001b[0m                         Traceback (most recent call last)",
      "Cell \u001b[0;32mIn[4], line 3\u001b[0m\n\u001b[1;32m      1\u001b[0m \u001b[38;5;28;01mfor\u001b[39;00m window_size \u001b[38;5;129;01min\u001b[39;00m window_sizes:\n\u001b[1;32m      2\u001b[0m     fig, ax \u001b[38;5;241m=\u001b[39m plt\u001b[38;5;241m.\u001b[39msubplots(\u001b[38;5;241m1\u001b[39m, \u001b[38;5;241m2\u001b[39m, figsize\u001b[38;5;241m=\u001b[39m(\u001b[38;5;241m8\u001b[39m, \u001b[38;5;241m3\u001b[39m))\n\u001b[0;32m----> 3\u001b[0m     df \u001b[38;5;241m=\u001b[39m \u001b[43mpd\u001b[49m\u001b[38;5;241;43m.\u001b[39;49m\u001b[43mread_parquet\u001b[49m\u001b[43m(\u001b[49m\u001b[38;5;124;43mf\u001b[39;49m\u001b[38;5;124;43m'\u001b[39;49m\u001b[38;5;124;43mblock_last_acc_ws=\u001b[39;49m\u001b[38;5;132;43;01m{\u001b[39;49;00m\u001b[43mwindow_size\u001b[49m\u001b[38;5;132;43;01m}\u001b[39;49;00m\u001b[38;5;124;43m.parquet\u001b[39;49m\u001b[38;5;124;43m'\u001b[39;49m\u001b[43m)\u001b[49m\n\u001b[1;32m      4\u001b[0m     block_last_acc \u001b[38;5;241m=\u001b[39m df\u001b[38;5;241m.\u001b[39mto_numpy()\n\u001b[1;32m      5\u001b[0m     df \u001b[38;5;241m=\u001b[39m pd\u001b[38;5;241m.\u001b[39mread_parquet(\u001b[38;5;124mf\u001b[39m\u001b[38;5;124m'\u001b[39m\u001b[38;5;124mblock_subject_acc_ws=\u001b[39m\u001b[38;5;132;01m{\u001b[39;00mwindow_size\u001b[38;5;132;01m}\u001b[39;00m\u001b[38;5;124m.parquet\u001b[39m\u001b[38;5;124m'\u001b[39m)\n",
      "File \u001b[0;32m/home/yandex/DL20232024a/nirendy/repos/ADL_2/venv/lib/python3.12/site-packages/pandas/io/parquet.py:667\u001b[0m, in \u001b[0;36mread_parquet\u001b[0;34m(path, engine, columns, storage_options, use_nullable_dtypes, dtype_backend, filesystem, filters, **kwargs)\u001b[0m\n\u001b[1;32m    664\u001b[0m     use_nullable_dtypes \u001b[38;5;241m=\u001b[39m \u001b[38;5;28;01mFalse\u001b[39;00m\n\u001b[1;32m    665\u001b[0m check_dtype_backend(dtype_backend)\n\u001b[0;32m--> 667\u001b[0m \u001b[38;5;28;01mreturn\u001b[39;00m \u001b[43mimpl\u001b[49m\u001b[38;5;241;43m.\u001b[39;49m\u001b[43mread\u001b[49m\u001b[43m(\u001b[49m\n\u001b[1;32m    668\u001b[0m \u001b[43m    \u001b[49m\u001b[43mpath\u001b[49m\u001b[43m,\u001b[49m\n\u001b[1;32m    669\u001b[0m \u001b[43m    \u001b[49m\u001b[43mcolumns\u001b[49m\u001b[38;5;241;43m=\u001b[39;49m\u001b[43mcolumns\u001b[49m\u001b[43m,\u001b[49m\n\u001b[1;32m    670\u001b[0m \u001b[43m    \u001b[49m\u001b[43mfilters\u001b[49m\u001b[38;5;241;43m=\u001b[39;49m\u001b[43mfilters\u001b[49m\u001b[43m,\u001b[49m\n\u001b[1;32m    671\u001b[0m \u001b[43m    \u001b[49m\u001b[43mstorage_options\u001b[49m\u001b[38;5;241;43m=\u001b[39;49m\u001b[43mstorage_options\u001b[49m\u001b[43m,\u001b[49m\n\u001b[1;32m    672\u001b[0m \u001b[43m    \u001b[49m\u001b[43muse_nullable_dtypes\u001b[49m\u001b[38;5;241;43m=\u001b[39;49m\u001b[43muse_nullable_dtypes\u001b[49m\u001b[43m,\u001b[49m\n\u001b[1;32m    673\u001b[0m \u001b[43m    \u001b[49m\u001b[43mdtype_backend\u001b[49m\u001b[38;5;241;43m=\u001b[39;49m\u001b[43mdtype_backend\u001b[49m\u001b[43m,\u001b[49m\n\u001b[1;32m    674\u001b[0m \u001b[43m    \u001b[49m\u001b[43mfilesystem\u001b[49m\u001b[38;5;241;43m=\u001b[39;49m\u001b[43mfilesystem\u001b[49m\u001b[43m,\u001b[49m\n\u001b[1;32m    675\u001b[0m \u001b[43m    \u001b[49m\u001b[38;5;241;43m*\u001b[39;49m\u001b[38;5;241;43m*\u001b[39;49m\u001b[43mkwargs\u001b[49m\u001b[43m,\u001b[49m\n\u001b[1;32m    676\u001b[0m \u001b[43m\u001b[49m\u001b[43m)\u001b[49m\n",
      "File \u001b[0;32m/home/yandex/DL20232024a/nirendy/repos/ADL_2/venv/lib/python3.12/site-packages/pandas/io/parquet.py:267\u001b[0m, in \u001b[0;36mPyArrowImpl.read\u001b[0;34m(self, path, columns, filters, use_nullable_dtypes, dtype_backend, storage_options, filesystem, **kwargs)\u001b[0m\n\u001b[1;32m    264\u001b[0m \u001b[38;5;28;01mif\u001b[39;00m manager \u001b[38;5;241m==\u001b[39m \u001b[38;5;124m\"\u001b[39m\u001b[38;5;124marray\u001b[39m\u001b[38;5;124m\"\u001b[39m:\n\u001b[1;32m    265\u001b[0m     to_pandas_kwargs[\u001b[38;5;124m\"\u001b[39m\u001b[38;5;124msplit_blocks\u001b[39m\u001b[38;5;124m\"\u001b[39m] \u001b[38;5;241m=\u001b[39m \u001b[38;5;28;01mTrue\u001b[39;00m  \u001b[38;5;66;03m# type: ignore[assignment]\u001b[39;00m\n\u001b[0;32m--> 267\u001b[0m path_or_handle, handles, filesystem \u001b[38;5;241m=\u001b[39m \u001b[43m_get_path_or_handle\u001b[49m\u001b[43m(\u001b[49m\n\u001b[1;32m    268\u001b[0m \u001b[43m    \u001b[49m\u001b[43mpath\u001b[49m\u001b[43m,\u001b[49m\n\u001b[1;32m    269\u001b[0m \u001b[43m    \u001b[49m\u001b[43mfilesystem\u001b[49m\u001b[43m,\u001b[49m\n\u001b[1;32m    270\u001b[0m \u001b[43m    \u001b[49m\u001b[43mstorage_options\u001b[49m\u001b[38;5;241;43m=\u001b[39;49m\u001b[43mstorage_options\u001b[49m\u001b[43m,\u001b[49m\n\u001b[1;32m    271\u001b[0m \u001b[43m    \u001b[49m\u001b[43mmode\u001b[49m\u001b[38;5;241;43m=\u001b[39;49m\u001b[38;5;124;43m\"\u001b[39;49m\u001b[38;5;124;43mrb\u001b[39;49m\u001b[38;5;124;43m\"\u001b[39;49m\u001b[43m,\u001b[49m\n\u001b[1;32m    272\u001b[0m \u001b[43m\u001b[49m\u001b[43m)\u001b[49m\n\u001b[1;32m    273\u001b[0m \u001b[38;5;28;01mtry\u001b[39;00m:\n\u001b[1;32m    274\u001b[0m     pa_table \u001b[38;5;241m=\u001b[39m \u001b[38;5;28mself\u001b[39m\u001b[38;5;241m.\u001b[39mapi\u001b[38;5;241m.\u001b[39mparquet\u001b[38;5;241m.\u001b[39mread_table(\n\u001b[1;32m    275\u001b[0m         path_or_handle,\n\u001b[1;32m    276\u001b[0m         columns\u001b[38;5;241m=\u001b[39mcolumns,\n\u001b[0;32m   (...)\u001b[0m\n\u001b[1;32m    279\u001b[0m         \u001b[38;5;241m*\u001b[39m\u001b[38;5;241m*\u001b[39mkwargs,\n\u001b[1;32m    280\u001b[0m     )\n",
      "File \u001b[0;32m/home/yandex/DL20232024a/nirendy/repos/ADL_2/venv/lib/python3.12/site-packages/pandas/io/parquet.py:140\u001b[0m, in \u001b[0;36m_get_path_or_handle\u001b[0;34m(path, fs, storage_options, mode, is_dir)\u001b[0m\n\u001b[1;32m    130\u001b[0m handles \u001b[38;5;241m=\u001b[39m \u001b[38;5;28;01mNone\u001b[39;00m\n\u001b[1;32m    131\u001b[0m \u001b[38;5;28;01mif\u001b[39;00m (\n\u001b[1;32m    132\u001b[0m     \u001b[38;5;129;01mnot\u001b[39;00m fs\n\u001b[1;32m    133\u001b[0m     \u001b[38;5;129;01mand\u001b[39;00m \u001b[38;5;129;01mnot\u001b[39;00m is_dir\n\u001b[0;32m   (...)\u001b[0m\n\u001b[1;32m    138\u001b[0m     \u001b[38;5;66;03m# fsspec resources can also point to directories\u001b[39;00m\n\u001b[1;32m    139\u001b[0m     \u001b[38;5;66;03m# this branch is used for example when reading from non-fsspec URLs\u001b[39;00m\n\u001b[0;32m--> 140\u001b[0m     handles \u001b[38;5;241m=\u001b[39m \u001b[43mget_handle\u001b[49m\u001b[43m(\u001b[49m\n\u001b[1;32m    141\u001b[0m \u001b[43m        \u001b[49m\u001b[43mpath_or_handle\u001b[49m\u001b[43m,\u001b[49m\u001b[43m \u001b[49m\u001b[43mmode\u001b[49m\u001b[43m,\u001b[49m\u001b[43m \u001b[49m\u001b[43mis_text\u001b[49m\u001b[38;5;241;43m=\u001b[39;49m\u001b[38;5;28;43;01mFalse\u001b[39;49;00m\u001b[43m,\u001b[49m\u001b[43m \u001b[49m\u001b[43mstorage_options\u001b[49m\u001b[38;5;241;43m=\u001b[39;49m\u001b[43mstorage_options\u001b[49m\n\u001b[1;32m    142\u001b[0m \u001b[43m    \u001b[49m\u001b[43m)\u001b[49m\n\u001b[1;32m    143\u001b[0m     fs \u001b[38;5;241m=\u001b[39m \u001b[38;5;28;01mNone\u001b[39;00m\n\u001b[1;32m    144\u001b[0m     path_or_handle \u001b[38;5;241m=\u001b[39m handles\u001b[38;5;241m.\u001b[39mhandle\n",
      "File \u001b[0;32m/home/yandex/DL20232024a/nirendy/repos/ADL_2/venv/lib/python3.12/site-packages/pandas/io/common.py:882\u001b[0m, in \u001b[0;36mget_handle\u001b[0;34m(path_or_buf, mode, encoding, compression, memory_map, is_text, errors, storage_options)\u001b[0m\n\u001b[1;32m    873\u001b[0m         handle \u001b[38;5;241m=\u001b[39m \u001b[38;5;28mopen\u001b[39m(\n\u001b[1;32m    874\u001b[0m             handle,\n\u001b[1;32m    875\u001b[0m             ioargs\u001b[38;5;241m.\u001b[39mmode,\n\u001b[0;32m   (...)\u001b[0m\n\u001b[1;32m    878\u001b[0m             newline\u001b[38;5;241m=\u001b[39m\u001b[38;5;124m\"\u001b[39m\u001b[38;5;124m\"\u001b[39m,\n\u001b[1;32m    879\u001b[0m         )\n\u001b[1;32m    880\u001b[0m     \u001b[38;5;28;01melse\u001b[39;00m:\n\u001b[1;32m    881\u001b[0m         \u001b[38;5;66;03m# Binary mode\u001b[39;00m\n\u001b[0;32m--> 882\u001b[0m         handle \u001b[38;5;241m=\u001b[39m \u001b[38;5;28;43mopen\u001b[39;49m\u001b[43m(\u001b[49m\u001b[43mhandle\u001b[49m\u001b[43m,\u001b[49m\u001b[43m \u001b[49m\u001b[43mioargs\u001b[49m\u001b[38;5;241;43m.\u001b[39;49m\u001b[43mmode\u001b[49m\u001b[43m)\u001b[49m\n\u001b[1;32m    883\u001b[0m     handles\u001b[38;5;241m.\u001b[39mappend(handle)\n\u001b[1;32m    885\u001b[0m \u001b[38;5;66;03m# Convert BytesIO or file objects passed with an encoding\u001b[39;00m\n",
      "\u001b[0;31mFileNotFoundError\u001b[0m: [Errno 2] No such file or directory: 'block_last_acc_ws=9.parquet'"
     ]
    },
    {
     "data": {
      "image/png": "[encoded data removed]",
      "text/plain": [
       "<Figure size 800x300 with 2 Axes>"
      ]
     },
     "metadata": {},
     "output_type": "display_data"
    }
   ],
   "source": [
    "for window_size in window_sizes:\n",
    "    fig, ax = plt.subplots(1, 2, figsize=(8, 3))\n",
    "    df = pd.read_parquet(f'block_last_acc_ws={window_size}.parquet')\n",
    "    block_last_acc = df.to_numpy()\n",
    "    df = pd.read_parquet(f'block_subject_acc_ws={window_size}.parquet')\n",
    "    block_subject_acc = df.to_numpy()\n",
    "    df = pd.read_parquet(f'block_relation_acc_ws={window_size}.parquet')\n",
    "    block_relation_acc = df.to_numpy()\n",
    "    \n",
    "    df = pd.read_parquet(f'block_last_diff_ws={window_size}.parquet')\n",
    "    block_last_diff = df.to_numpy()\n",
    "    df = pd.read_parquet(f'block_subject_diff_ws={window_size}.parquet')\n",
    "    block_subject_diff = df.to_numpy()\n",
    "    df = pd.read_parquet(f'block_relation_diff_ws={window_size}.parquet')\n",
    "    block_relation_diff = df.to_numpy()\n",
    "    layers = list(range(n_layers - window_size + 1))\n",
    "    \n",
    "    ax[0].plot(layers, block_last_acc * 100, label=\"last\", color=\"orange\", linestyle=\":\")\n",
    "    ax[0].plot(layers, block_subject_acc * 100, label=\"subject\", color=\"green\")\n",
    "    ax[0].plot(layers, block_relation_acc * 100, label=\"relation\", color=\"purple\", linestyle=\"--\")\n",
    "    ax[0].axhline(100, color=\"gray\", linewidth=1)\n",
    "    ax[0].grid(True, which='both', linestyle='--', linewidth=0.5)\n",
    "    ax[0].set_xlabel('Layers')\n",
    "    ax[0].set_ylabel('% accuracy')\n",
    "    ax[0].set_title(f'Accuracy', fontsize=10)\n",
    "    ax[0].legend(loc=\"lower left\", fontsize=8)\n",
    "\n",
    "    ax[1].plot(layers, block_last_diff, label=\"last\", color=\"orange\", linestyle=\":\")\n",
    "    ax[1].plot(layers, block_subject_diff, label=\"subject\", color=\"green\")\n",
    "    ax[1].plot(layers, block_relation_diff, label=\"relation\", color=\"purple\", linestyle=\"--\")\n",
    "    ax[1].axhline(0, color=\"gray\", linewidth=1)\n",
    "    ax[1].grid(True, which='both', linestyle='--', linewidth=0.5)\n",
    "    ax[1].set_xlabel('Layers')\n",
    "    ax[1].set_ylabel('% change in prediction probability')\n",
    "    ax[1].set_title(f'Change in prediction probability', fontsize=10)\n",
    "    ax[1].legend(loc=\"lower left\", fontsize=8)\n",
    "    \n",
    "    plt.suptitle(f'Results with mamba2-1.3b and window size={window_size}')\n",
    "    plt.tight_layout(pad=1, w_pad=3.0)\n",
    "    plt.savefig(f'results_ws={window_size}.pdf', format=\"pdf\")\n",
    "    plt.show()"
   ]
  },
  {
   "cell_type": "markdown",
   "id": "0fd773d4-d883-42c8-b0a5-70ac74b92c38",
   "metadata": {
    "jp-MarkdownHeadingCollapsed": true
   },
   "source": [
    "# Results when subject includes 1st token"
   ]
  },
  {
   "cell_type": "code",
   "execution_count": null,
   "id": "8782aade-f394-4d77-9b1d-e2b974b29fea",
   "metadata": {},
   "outputs": [],
   "source": [
    "for window_size in window_sizes:\n",
    "    fig, ax = plt.subplots(1, 2, figsize=(8, 3))\n",
    "    df = pd.read_parquet(f'block_last_wf_acc_ws={window_size}.parquet')\n",
    "    block_last_acc = df.to_numpy()\n",
    "    df = pd.read_parquet(f'block_subject_wf_acc_ws={window_size}.parquet')\n",
    "    block_subject_acc = df.to_numpy()\n",
    "    df = pd.read_parquet(f'block_relation_wf_acc_ws={window_size}.parquet')\n",
    "    block_relation_acc = df.to_numpy()\n",
    "    \n",
    "    df = pd.read_parquet(f'block_last_wf_diff_ws={window_size}.parquet')\n",
    "    block_last_diff = df.to_numpy()\n",
    "    df = pd.read_parquet(f'block_subject_wf_diff_ws={window_size}.parquet')\n",
    "    block_subject_diff = df.to_numpy()\n",
    "    df = pd.read_parquet(f'block_relation_wf_diff_ws={window_size}.parquet')\n",
    "    block_relation_diff = df.to_numpy()\n",
    "    layers = list(range(n_layers - window_size + 1))\n",
    "    \n",
    "    ax[0].plot(layers, block_last_acc * 100, label=\"last\", color=\"orange\", linestyle=\":\")\n",
    "    ax[0].plot(layers, block_subject_acc * 100, label=\"subject\", color=\"green\")\n",
    "    ax[0].plot(layers, block_relation_acc * 100, label=\"relation\", color=\"purple\", linestyle=\"--\")\n",
    "    ax[0].axhline(100, color=\"gray\", linewidth=1)\n",
    "    ax[0].grid(True, which='both', linestyle='--', linewidth=0.5)\n",
    "    ax[0].set_xlabel('Layers')\n",
    "    ax[0].set_ylabel('% accuracy')\n",
    "    ax[0].set_title(f'Accuracy', fontsize=10)\n",
    "    ax[0].legend(loc=\"lower left\", fontsize=8)\n",
    "\n",
    "    ax[1].plot(layers, block_last_diff, label=\"last\", color=\"orange\", linestyle=\":\")\n",
    "    ax[1].plot(layers, block_subject_diff, label=\"subject\", color=\"green\")\n",
    "    ax[1].plot(layers, block_relation_diff, label=\"relation\", color=\"purple\", linestyle=\"--\")\n",
    "    ax[1].axhline(0, color=\"gray\", linewidth=1)\n",
    "    ax[1].grid(True, which='both', linestyle='--', linewidth=0.5)\n",
    "    ax[1].set_xlabel('Layers')\n",
    "    ax[1].set_ylabel('% change in prediction probability')\n",
    "    ax[1].set_title(f'Change in prediction probability', fontsize=10)\n",
    "    ax[1].legend(loc=\"lower left\", fontsize=8)\n",
    "    \n",
    "    plt.suptitle(f'Results with mamba2-1.3b and window size={window_size} when 1st is included in subject')\n",
    "    plt.tight_layout(pad=1, w_pad=3.0)\n",
    "    plt.savefig(f'results_wf_ws={window_size}.pdf', format=\"pdf\")\n",
    "    plt.show()"
   ]
  },
  {
   "cell_type": "markdown",
   "id": "9c8790ab-5ebf-4d51-b344-3702a1a4d521",
   "metadata": {
    "jp-MarkdownHeadingCollapsed": true
   },
   "source": [
    "# Results when subject doesn't include 1st token"
   ]
  },
  {
   "cell_type": "code",
   "execution_count": null,
   "id": "b363b69a-655c-4c3c-bc22-711e9f0c5fda",
   "metadata": {},
   "outputs": [],
   "source": [
    "for window_size in window_sizes:\n",
    "    fig, ax = plt.subplots(1, 2, figsize=(8, 3))\n",
    "    df = pd.read_parquet(f'block_last_wof_acc_ws={window_size}.parquet')\n",
    "    block_last_acc = df.to_numpy()\n",
    "    df = pd.read_parquet(f'block_subject_wof_acc_ws={window_size}.parquet')\n",
    "    block_subject_acc = df.to_numpy()\n",
    "    df = pd.read_parquet(f'block_relation_wof_acc_ws={window_size}.parquet')\n",
    "    block_relation_acc = df.to_numpy()\n",
    "    \n",
    "    df = pd.read_parquet(f'block_last_wof_diff_ws={window_size}.parquet')\n",
    "    block_last_diff = df.to_numpy()\n",
    "    df = pd.read_parquet(f'block_subject_wof_diff_ws={window_size}.parquet')\n",
    "    block_subject_diff = df.to_numpy()\n",
    "    df = pd.read_parquet(f'block_relation_wof_diff_ws={window_size}.parquet')\n",
    "    block_relation_diff = df.to_numpy()\n",
    "    layers = list(range(n_layers - window_size + 1))\n",
    "    \n",
    "    ax[0].plot(layers, block_last_acc * 100, label=\"last\", color=\"orange\", linestyle=\":\")\n",
    "    ax[0].plot(layers, block_subject_acc * 100, label=\"subject\", color=\"green\")\n",
    "    ax[0].plot(layers, block_relation_acc * 100, label=\"relation\", color=\"purple\", linestyle=\"--\")\n",
    "    ax[0].axhline(100, color=\"gray\", linewidth=1)\n",
    "    ax[0].grid(True, which='both', linestyle='--', linewidth=0.5)\n",
    "    ax[0].set_xlabel('Layers')\n",
    "    ax[0].set_ylabel('% accuracy')\n",
    "    ax[0].set_title(f'Accuracy', fontsize=10)\n",
    "    ax[0].legend(loc=\"lower left\", fontsize=8)\n",
    "\n",
    "    ax[1].plot(layers, block_last_diff, label=\"last\", color=\"orange\", linestyle=\":\")\n",
    "    ax[1].plot(layers, block_subject_diff, label=\"subject\", color=\"green\")\n",
    "    ax[1].plot(layers, block_relation_diff, label=\"relation\", color=\"purple\", linestyle=\"--\")\n",
    "    ax[1].axhline(0, color=\"gray\", linewidth=1)\n",
    "    ax[1].grid(True, which='both', linestyle='--', linewidth=0.5)\n",
    "    ax[1].set_xlabel('Layers')\n",
    "    ax[1].set_ylabel('% change in prediction probability')\n",
    "    ax[1].set_title(f'Change in prediction probability', fontsize=10)\n",
    "    ax[1].legend(loc=\"lower left\", fontsize=8)\n",
    "    \n",
    "    plt.suptitle(f'Results with mamba2-1.3b and window size={window_size} when 1st is not included in subject')\n",
    "    plt.tight_layout(pad=1, w_pad=3.0)\n",
    "    plt.savefig(f'results_wof_ws={window_size}.pdf', format=\"pdf\")\n",
    "    plt.show()"
   ]
  },
  {
   "cell_type": "code",
   "execution_count": null,
   "id": "6752ba73-7523-4121-b09a-0c424890dbc0",
   "metadata": {},
   "outputs": [],
   "source": []
  }
 ],
 "metadata": {
  "kernelspec": {
   "display_name": "venv",
   "language": "python",
   "name": "python3"
  },
  "language_info": {
   "codemirror_mode": {
    "name": "ipython",
    "version": 3
   },
   "file_extension": ".py",
   "mimetype": "text/x-python",
   "name": "python",
   "nbconvert_exporter": "python",
   "pygments_lexer": "ipython3",
   "version": "3.12.4"
  }
 },
 "nbformat": 4,
 "nbformat_minor": 5
}
