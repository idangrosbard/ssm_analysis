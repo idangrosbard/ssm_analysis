{
 "cells": [
  {
   "cell_type": "markdown",
   "id": "d3b8fa55-2614-4037-ae18-b2efe56327b9",
   "metadata": {
    "jp-MarkdownHeadingCollapsed": true
   },
   "source": [
    "# Imports"
   ]
  },
  {
   "cell_type": "code",
   "execution_count": null,
   "id": "5d51ccf8-c90e-4667-8b25-5f54be1714ab",
   "metadata": {},
   "outputs": [],
   "source": [
    "import numpy as np\n",
    "import pandas as pd\n",
    "import matplotlib.pyplot as plt\n",
    "import seaborn as sns"
   ]
  },
  {
   "cell_type": "code",
   "execution_count": null,
   "id": "93e52b91-09b1-481c-b2c2-d70c59e456d8",
   "metadata": {},
   "outputs": [],
   "source": [
    "n_layers = 48\n",
    "window_sizes = [9, 15]"
   ]
  },
  {
   "cell_type": "markdown",
   "id": "a3e6b590-ee7f-4afa-a574-bde6bf9cc372",
   "metadata": {
    "jp-MarkdownHeadingCollapsed": true
   },
   "source": [
    "# Overall results"
   ]
  },
  {
   "cell_type": "code",
   "execution_count": null,
   "id": "1ddf206d-cc68-472c-afc4-5124bf3bf605",
   "metadata": {},
   "outputs": [],
   "source": [
    "for window_size in window_sizes:\n",
    "    fig, ax = plt.subplots(1, 2, figsize=(8, 3))\n",
    "    df = pd.read_parquet(f'block_last_acc_ws={window_size}.parquet')\n",
    "    block_last_acc = df.to_numpy()\n",
    "    df = pd.read_parquet(f'block_subject_acc_ws={window_size}.parquet')\n",
    "    block_subject_acc = df.to_numpy()\n",
    "    df = pd.read_parquet(f'block_relation_acc_ws={window_size}.parquet')\n",
    "    block_relation_acc = df.to_numpy()\n",
    "    \n",
    "    df = pd.read_parquet(f'block_last_diff_ws={window_size}.parquet')\n",
    "    block_last_diff = df.to_numpy()\n",
    "    df = pd.read_parquet(f'block_subject_diff_ws={window_size}.parquet')\n",
    "    block_subject_diff = df.to_numpy()\n",
    "    df = pd.read_parquet(f'block_relation_diff_ws={window_size}.parquet')\n",
    "    block_relation_diff = df.to_numpy()\n",
    "    layers = list(range(n_layers - window_size + 1))\n",
    "    \n",
    "    ax[0].plot(layers, block_last_acc * 100, label=\"last\", color=\"orange\", linestyle=\":\")\n",
    "    ax[0].plot(layers, block_subject_acc * 100, label=\"subject\", color=\"green\")\n",
    "    ax[0].plot(layers, block_relation_acc * 100, label=\"relation\", color=\"purple\", linestyle=\"--\")\n",
    "    ax[0].axhline(100, color=\"gray\", linewidth=1)\n",
    "    ax[0].grid(True, which='both', linestyle='--', linewidth=0.5)\n",
    "    ax[0].set_xlabel('Layers')\n",
    "    ax[0].set_ylabel('% accuracy')\n",
    "    ax[0].set_title(f'Accuracy', fontsize=10)\n",
    "    ax[0].legend(loc=\"lower left\", fontsize=8)\n",
    "\n",
    "    ax[1].plot(layers, block_last_diff, label=\"last\", color=\"orange\", linestyle=\":\")\n",
    "    ax[1].plot(layers, block_subject_diff, label=\"subject\", color=\"green\")\n",
    "    ax[1].plot(layers, block_relation_diff, label=\"relation\", color=\"purple\", linestyle=\"--\")\n",
    "    ax[1].axhline(0, color=\"gray\", linewidth=1)\n",
    "    ax[1].grid(True, which='both', linestyle='--', linewidth=0.5)\n",
    "    ax[1].set_xlabel('Layers')\n",
    "    ax[1].set_ylabel('% change in prediction probability')\n",
    "    ax[1].set_title(f'Change in prediction probability', fontsize=10)\n",
    "    ax[1].legend(loc=\"lower left\", fontsize=8)\n",
    "    \n",
    "    plt.suptitle(f'Results with mamba2-1.3b and window size={window_size}')\n",
    "    plt.tight_layout(pad=1, w_pad=3.0)\n",
    "    plt.savefig(f'results_ws={window_size}.pdf', format=\"pdf\")\n",
    "    plt.show()"
   ]
  },
  {
   "cell_type": "markdown",
   "id": "0fd773d4-d883-42c8-b0a5-70ac74b92c38",
   "metadata": {
    "jp-MarkdownHeadingCollapsed": true
   },
   "source": [
    "# Results when subject includes 1st token"
   ]
  },
  {
   "cell_type": "code",
   "execution_count": null,
   "id": "8782aade-f394-4d77-9b1d-e2b974b29fea",
   "metadata": {},
   "outputs": [],
   "source": [
    "for window_size in window_sizes:\n",
    "    fig, ax = plt.subplots(1, 2, figsize=(8, 3))\n",
    "    df = pd.read_parquet(f'block_last_wf_acc_ws={window_size}.parquet')\n",
    "    block_last_acc = df.to_numpy()\n",
    "    df = pd.read_parquet(f'block_subject_wf_acc_ws={window_size}.parquet')\n",
    "    block_subject_acc = df.to_numpy()\n",
    "    df = pd.read_parquet(f'block_relation_wf_acc_ws={window_size}.parquet')\n",
    "    block_relation_acc = df.to_numpy()\n",
    "    \n",
    "    df = pd.read_parquet(f'block_last_wf_diff_ws={window_size}.parquet')\n",
    "    block_last_diff = df.to_numpy()\n",
    "    df = pd.read_parquet(f'block_subject_wf_diff_ws={window_size}.parquet')\n",
    "    block_subject_diff = df.to_numpy()\n",
    "    df = pd.read_parquet(f'block_relation_wf_diff_ws={window_size}.parquet')\n",
    "    block_relation_diff = df.to_numpy()\n",
    "    layers = list(range(n_layers - window_size + 1))\n",
    "    \n",
    "    ax[0].plot(layers, block_last_acc * 100, label=\"last\", color=\"orange\", linestyle=\":\")\n",
    "    ax[0].plot(layers, block_subject_acc * 100, label=\"subject\", color=\"green\")\n",
    "    ax[0].plot(layers, block_relation_acc * 100, label=\"relation\", color=\"purple\", linestyle=\"--\")\n",
    "    ax[0].axhline(100, color=\"gray\", linewidth=1)\n",
    "    ax[0].grid(True, which='both', linestyle='--', linewidth=0.5)\n",
    "    ax[0].set_xlabel('Layers')\n",
    "    ax[0].set_ylabel('% accuracy')\n",
    "    ax[0].set_title(f'Accuracy', fontsize=10)\n",
    "    ax[0].legend(loc=\"lower left\", fontsize=8)\n",
    "\n",
    "    ax[1].plot(layers, block_last_diff, label=\"last\", color=\"orange\", linestyle=\":\")\n",
    "    ax[1].plot(layers, block_subject_diff, label=\"subject\", color=\"green\")\n",
    "    ax[1].plot(layers, block_relation_diff, label=\"relation\", color=\"purple\", linestyle=\"--\")\n",
    "    ax[1].axhline(0, color=\"gray\", linewidth=1)\n",
    "    ax[1].grid(True, which='both', linestyle='--', linewidth=0.5)\n",
    "    ax[1].set_xlabel('Layers')\n",
    "    ax[1].set_ylabel('% change in prediction probability')\n",
    "    ax[1].set_title(f'Change in prediction probability', fontsize=10)\n",
    "    ax[1].legend(loc=\"lower left\", fontsize=8)\n",
    "    \n",
    "    plt.suptitle(f'Results with mamba2-1.3b and window size={window_size} when 1st is included in subject')\n",
    "    plt.tight_layout(pad=1, w_pad=3.0)\n",
    "    plt.savefig(f'results_wf_ws={window_size}.pdf', format=\"pdf\")\n",
    "    plt.show()"
   ]
  },
  {
   "cell_type": "markdown",
   "id": "9c8790ab-5ebf-4d51-b344-3702a1a4d521",
   "metadata": {
    "jp-MarkdownHeadingCollapsed": true
   },
   "source": [
    "# Results when subject doesn't include 1st token"
   ]
  },
  {
   "cell_type": "code",
   "execution_count": null,
   "id": "b363b69a-655c-4c3c-bc22-711e9f0c5fda",
   "metadata": {},
   "outputs": [],
   "source": [
    "for window_size in window_sizes:\n",
    "    fig, ax = plt.subplots(1, 2, figsize=(8, 3))\n",
    "    df = pd.read_parquet(f'block_last_wof_acc_ws={window_size}.parquet')\n",
    "    block_last_acc = df.to_numpy()\n",
    "    df = pd.read_parquet(f'block_subject_wof_acc_ws={window_size}.parquet')\n",
    "    block_subject_acc = df.to_numpy()\n",
    "    df = pd.read_parquet(f'block_relation_wof_acc_ws={window_size}.parquet')\n",
    "    block_relation_acc = df.to_numpy()\n",
    "    \n",
    "    df = pd.read_parquet(f'block_last_wof_diff_ws={window_size}.parquet')\n",
    "    block_last_diff = df.to_numpy()\n",
    "    df = pd.read_parquet(f'block_subject_wof_diff_ws={window_size}.parquet')\n",
    "    block_subject_diff = df.to_numpy()\n",
    "    df = pd.read_parquet(f'block_relation_wof_diff_ws={window_size}.parquet')\n",
    "    block_relation_diff = df.to_numpy()\n",
    "    layers = list(range(n_layers - window_size + 1))\n",
    "    \n",
    "    ax[0].plot(layers, block_last_acc * 100, label=\"last\", color=\"orange\", linestyle=\":\")\n",
    "    ax[0].plot(layers, block_subject_acc * 100, label=\"subject\", color=\"green\")\n",
    "    ax[0].plot(layers, block_relation_acc * 100, label=\"relation\", color=\"purple\", linestyle=\"--\")\n",
    "    ax[0].axhline(100, color=\"gray\", linewidth=1)\n",
    "    ax[0].grid(True, which='both', linestyle='--', linewidth=0.5)\n",
    "    ax[0].set_xlabel('Layers')\n",
    "    ax[0].set_ylabel('% accuracy')\n",
    "    ax[0].set_title(f'Accuracy', fontsize=10)\n",
    "    ax[0].legend(loc=\"lower left\", fontsize=8)\n",
    "\n",
    "    ax[1].plot(layers, block_last_diff, label=\"last\", color=\"orange\", linestyle=\":\")\n",
    "    ax[1].plot(layers, block_subject_diff, label=\"subject\", color=\"green\")\n",
    "    ax[1].plot(layers, block_relation_diff, label=\"relation\", color=\"purple\", linestyle=\"--\")\n",
    "    ax[1].axhline(0, color=\"gray\", linewidth=1)\n",
    "    ax[1].grid(True, which='both', linestyle='--', linewidth=0.5)\n",
    "    ax[1].set_xlabel('Layers')\n",
    "    ax[1].set_ylabel('% change in prediction probability')\n",
    "    ax[1].set_title(f'Change in prediction probability', fontsize=10)\n",
    "    ax[1].legend(loc=\"lower left\", fontsize=8)\n",
    "    \n",
    "    plt.suptitle(f'Results with mamba2-1.3b and window size={window_size} when 1st is not included in subject')\n",
    "    plt.tight_layout(pad=1, w_pad=3.0)\n",
    "    plt.savefig(f'results_wof_ws={window_size}.pdf', format=\"pdf\")\n",
    "    plt.show()"
   ]
  },
  {
   "cell_type": "code",
   "execution_count": null,
   "id": "6752ba73-7523-4121-b09a-0c424890dbc0",
   "metadata": {},
   "outputs": [],
   "source": []
  }
 ],
 "metadata": {
  "kernelspec": {
   "display_name": "Python 3 (ipykernel)",
   "language": "python",
   "name": "python3"
  },
  "language_info": {
   "codemirror_mode": {
    "name": "ipython",
    "version": 3
   },
   "file_extension": ".py",
   "mimetype": "text/x-python",
   "name": "python",
   "nbconvert_exporter": "python",
   "pygments_lexer": "ipython3",
   "version": "3.10.14"
  }
 },
 "nbformat": 4,
 "nbformat_minor": 5
}
