{
 "cells": [
  {
   "cell_type": "code",
   "execution_count": 16,
   "id": "441aac74edba7b99",
   "metadata": {},
   "outputs": [],
   "source": [
    "\n",
    "import pandas as pd\n",
    "from transformers import MambaForCausalLM\n",
    "import plotly.express as px\n",
    "import torch\n",
    "\n",
    "import numpy as np\n",
    "from sklearn.cluster import KMeans\n",
    "from sklearn.preprocessing import StandardScaler\n",
    "from sklearn.decomposition import PCA\n",
    "\n",
    "from tqdm import tqdm\n",
    "import matplotlib.pyplot as plt\n",
    "\n",
    "from scipy.stats import skew, kurtosis\n",
    "import plotly.express as px\n",
    "from itertools import combinations"
   ]
  },
  {
   "cell_type": "code",
   "execution_count": 2,
   "id": "5267123d",
   "metadata": {},
   "outputs": [],
   "source": [
    "from src.consts import PATHS\n",
    "from scripts.evaluate_model import get_tokenizer_and_model\n",
    "from scripts.plot_a_vals_distr import collect_and_stack_A_logs"
   ]
  },
  {
   "cell_type": "code",
   "execution_count": 3,
   "id": "89525694",
   "metadata": {},
   "outputs": [
    {
     "name": "stderr",
     "output_type": "stream",
     "text": [
      "Loading checkpoint shards: 100%|██████████| 3/3 [00:00<00:00,  4.59it/s]\n"
     ]
    }
   ],
   "source": [
    "_, model = get_tokenizer_and_model(\"mamba\", '2.8B')\n",
    "model.eval();"
   ]
  },
  {
   "cell_type": "code",
   "execution_count": 4,
   "id": "13042d23",
   "metadata": {},
   "outputs": [],
   "source": [
    "stacked_A_logs, layer_indices, position_indices = collect_and_stack_A_logs(model)\n",
    "exped_log_A = torch.exp(-torch.exp(torch.from_numpy(stacked_A_logs))).numpy()\n"
   ]
  },
  {
   "cell_type": "code",
   "execution_count": 5,
   "id": "f814fb04",
   "metadata": {},
   "outputs": [],
   "source": [
    "def compute_features(data, features_to_add, feature_dict=None):\n",
    "    if feature_dict is None:\n",
    "        feature_dict = {}\n",
    "    features_to_add = [f for f in features_to_add if f not in feature_dict]\n",
    "    if 'L1_norm' in features_to_add:\n",
    "        feature_dict['L1_norm'] = np.linalg.norm(data, ord=1, axis=1, keepdims=True)\n",
    "    if 'L_infinity_norm' in features_to_add:\n",
    "        feature_dict['L_infinity_norm'] = np.linalg.norm(data, ord=np.inf, axis=1, keepdims=True)\n",
    "    if 'skewness' in features_to_add:\n",
    "        feature_dict['skewness'] = skew(data, axis=1).reshape(-1, 1)\n",
    "    if 'kurtosis' in features_to_add:\n",
    "        feature_dict['kurtosis'] = kurtosis(data, axis=1).reshape(-1, 1)\n",
    "    if 'mean' in features_to_add:\n",
    "        feature_dict['mean'] = np.mean(data, axis=1).reshape(-1, 1)\n",
    "    if 'median' in features_to_add:\n",
    "        feature_dict['median'] = np.median(data, axis=1).reshape(-1, 1)\n",
    "    if 'min' in features_to_add:\n",
    "        feature_dict['min'] = np.min(data, axis=1).reshape(-1, 1)\n",
    "    if 'max' in features_to_add:\n",
    "        feature_dict['max'] = np.max(data, axis=1).reshape(-1, 1)\n",
    "    if 'std' in features_to_add:\n",
    "        feature_dict['std'] = np.std(data, axis=1).reshape(-1, 1)\n",
    "    \n",
    "    return feature_dict"
   ]
  },
  {
   "cell_type": "code",
   "execution_count": 6,
   "id": "36c4623e",
   "metadata": {},
   "outputs": [],
   "source": [
    "enriched_features_names = ['L1_norm', 'L_infinity_norm', 'skewness', 'kurtosis', 'mean', 'median', 'min', 'max', 'std']\n",
    "enriched_features_names_exp = [f'{f}_exp' for f in enriched_features_names]"
   ]
  },
  {
   "cell_type": "code",
   "execution_count": 7,
   "id": "d8bbc6d9",
   "metadata": {},
   "outputs": [],
   "source": [
    "enriched_features_names = ['L1_norm', 'L_infinity_norm', 'skewness', 'kurtosis', 'mean', 'median', 'min', 'max', 'std']\n",
    "enriched_features_names_exp = [f'{f}_exp' for f in enriched_features_names]\n",
    "enriched_features = {}\n",
    "enriched_features_exp = {}\n",
    "enriched_features = compute_features(stacked_A_logs, features_to_add=enriched_features_names, feature_dict=enriched_features)\n",
    "enriched_features_exp = compute_features(exped_log_A, features_to_add=enriched_features_names, feature_dict=enriched_features_exp)"
   ]
  },
  {
   "cell_type": "code",
   "execution_count": 10,
   "id": "8ee036e2",
   "metadata": {},
   "outputs": [],
   "source": [
    "# Create a DataFrame for enriched features\n",
    "enriched_df = pd.DataFrame({\n",
    "    **{\n",
    "        f'{feature}': enriched_features[feature].flatten()\n",
    "        for feature \n",
    "        in enriched_features_names\n",
    "    },\n",
    "    **{\n",
    "        f'{feature}_exp': enriched_features_exp[feature].flatten()\n",
    "        for feature \n",
    "        in enriched_features_names\n",
    "    },\n",
    "    'Layer Index': layer_indices,\n",
    "    'Layer Index str': [f'Layer {i}' for i in layer_indices],\n",
    "    'Position Index': position_indices\n",
    "})\n"
   ]
  },
  {
   "cell_type": "code",
   "execution_count": 39,
   "id": "094c06cb",
   "metadata": {},
   "outputs": [],
   "source": [
    "def plot_feature_interactions(data, feature1, feature2, color_feature='Layer Index str'):\n",
    "    unique_colors = data[color_feature].unique()\n",
    "    color_map = plt.cm.get_cmap('viridis', len(unique_colors))\n",
    "    \n",
    "    fig, ax = plt.subplots()\n",
    "    \n",
    "    for i, color in enumerate(unique_colors):\n",
    "        subset = data[data[color_feature] == color]\n",
    "        ax.scatter(subset[feature1], subset[feature2], label=color, color=color_map(i), alpha=0.1)\n",
    "    \n",
    "    ax.set_xlabel(feature1)\n",
    "    ax.set_ylabel(feature2)\n",
    "    ax.set_title(f'{feature1} vs {feature2}')\n",
    "    ax.legend(title=color_feature)\n",
    "    \n",
    "    return fig\n"
   ]
  },
  {
   "cell_type": "code",
   "execution_count": 55,
   "id": "2279fcde",
   "metadata": {},
   "outputs": [],
   "source": [
    "\n",
    "# Perform clustering with KMeans\n",
    "for num_clusters in [2, 3, 4, 5]:\n",
    "    scaler = StandardScaler()\n",
    "    scaled_features = scaler.fit_transform(enriched_df[enriched_features_names + enriched_features_names_exp])\n",
    "    kmeans = KMeans(n_clusters=num_clusters, random_state=42)\n",
    "    kmeans.fit(scaled_features)\n",
    "    enriched_df[f'Cluster_{num_clusters}_enriched'] = kmeans.labels_\n",
    "    enriched_df[f'Cluster_{num_clusters}_enriched_str'] = [f'Cluster {i}' for i in kmeans.labels_]\n"
   ]
  },
  {
   "cell_type": "code",
   "execution_count": 56,
   "id": "33861950",
   "metadata": {},
   "outputs": [],
   "source": [
    "enriched_df.to_csv('A_features.csv', index=False)"
   ]
  },
  {
   "cell_type": "code",
   "execution_count": 57,
   "id": "915af5e7",
   "metadata": {},
   "outputs": [],
   "source": [
    "existing = set([x.name[:-4] for x in (PATHS.RUNS_DIR / f'feature_interactions_png/').glob('*.png')])"
   ]
  },
  {
   "cell_type": "code",
   "execution_count": 58,
   "id": "82f2c115",
   "metadata": {},
   "outputs": [],
   "source": [
    "all = set()\n",
    "for feature1, feature2 in combinations(enriched_features_names + enriched_features_names_exp, 2):\n",
    "    name = f'{feature1}_vs_{feature2}_layer_colored'\n",
    "    all.add(name)\n",
    "    for num_clusters in [3, 5]:\n",
    "        name = f'{feature1}_vs_{feature2}_cluster_{num_clusters}_colored'\n",
    "        all.add(name)\n",
    "    "
   ]
  },
  {
   "cell_type": "code",
   "execution_count": 59,
   "id": "de8e08ff",
   "metadata": {},
   "outputs": [
    {
     "data": {
      "text/plain": [
       "(459, 0, 459)"
      ]
     },
     "execution_count": 59,
     "metadata": {},
     "output_type": "execute_result"
    }
   ],
   "source": [
    "len(all), len(existing), len(all - existing)"
   ]
  },
  {
   "cell_type": "code",
   "execution_count": 60,
   "id": "e4640dd1",
   "metadata": {},
   "outputs": [
    {
     "data": {
      "text/plain": [
       "set()"
      ]
     },
     "execution_count": 60,
     "metadata": {},
     "output_type": "execute_result"
    }
   ],
   "source": [
    "existing"
   ]
  },
  {
   "cell_type": "code",
   "execution_count": null,
   "id": "9e22aa8a",
   "metadata": {},
   "outputs": [
    {
     "name": "stderr",
     "output_type": "stream",
     "text": [
      "/tmp/ipykernel_25480/917941144.py:3: MatplotlibDeprecationWarning:\n",
      "\n",
      "The get_cmap function was deprecated in Matplotlib 3.7 and will be removed in 3.11. Use ``matplotlib.colormaps[name]`` or ``matplotlib.colormaps.get_cmap()`` or ``pyplot.get_cmap()`` instead.\n",
      "\n",
      "/tmp/ipykernel_25480/1187240135.py:7: UserWarning:\n",
      "\n",
      "Creating legend with loc=\"best\" can be slow with large amounts of data.\n",
      "\n"
     ]
    },
    {
     "name": "stdout",
     "output_type": "stream",
     "text": [
      "458\n",
      "457\n"
     ]
    },
    {
     "name": "stderr",
     "output_type": "stream",
     "text": [
      "/tmp/ipykernel_25480/1187240135.py:17: UserWarning:\n",
      "\n",
      "Creating legend with loc=\"best\" can be slow with large amounts of data.\n",
      "\n"
     ]
    },
    {
     "name": "stdout",
     "output_type": "stream",
     "text": [
      "456\n",
      "455\n",
      "454\n",
      "453\n",
      "452\n",
      "451\n",
      "450\n",
      "449\n",
      "448\n",
      "447\n",
      "446\n",
      "445\n",
      "444\n",
      "443\n",
      "442\n",
      "441\n",
      "440\n",
      "439\n",
      "438\n",
      "437\n",
      "436\n",
      "435\n",
      "434\n",
      "433\n",
      "432\n",
      "431\n",
      "430\n",
      "429\n",
      "428\n",
      "427\n",
      "426\n",
      "425\n",
      "424\n",
      "423\n",
      "422\n",
      "421\n",
      "420\n",
      "419\n",
      "418\n",
      "417\n",
      "416\n",
      "415\n",
      "414\n",
      "413\n",
      "412\n",
      "411\n",
      "410\n",
      "409\n",
      "408\n",
      "407\n",
      "406\n",
      "405\n",
      "404\n",
      "403\n",
      "402\n",
      "401\n",
      "400\n",
      "399\n",
      "398\n",
      "397\n",
      "396\n",
      "395\n",
      "394\n",
      "393\n",
      "392\n",
      "391\n",
      "390\n",
      "389\n",
      "388\n",
      "387\n",
      "386\n",
      "385\n",
      "384\n",
      "383\n",
      "382\n",
      "381\n",
      "380\n",
      "379\n",
      "378\n",
      "377\n",
      "376\n",
      "375\n",
      "374\n",
      "373\n",
      "372\n",
      "371\n",
      "370\n",
      "369\n",
      "368\n",
      "367\n",
      "366\n",
      "365\n",
      "364\n",
      "363\n",
      "362\n",
      "361\n",
      "360\n",
      "359\n",
      "358\n",
      "357\n",
      "356\n",
      "355\n",
      "354\n",
      "353\n",
      "352\n",
      "351\n",
      "350\n",
      "349\n",
      "348\n",
      "347\n",
      "346\n",
      "345\n",
      "344\n",
      "343\n",
      "342\n",
      "341\n",
      "340\n",
      "339\n",
      "338\n",
      "337\n",
      "336\n",
      "335\n",
      "334\n",
      "333\n",
      "332\n",
      "331\n",
      "330\n",
      "329\n",
      "328\n",
      "327\n",
      "326\n",
      "325\n",
      "324\n",
      "323\n",
      "322\n",
      "321\n",
      "320\n",
      "319\n",
      "318\n",
      "317\n",
      "316\n",
      "315\n",
      "314\n",
      "313\n",
      "312\n",
      "311\n",
      "310\n",
      "309\n",
      "308\n",
      "307\n",
      "306\n",
      "305\n",
      "304\n",
      "303\n",
      "302\n",
      "301\n",
      "300\n",
      "299\n",
      "298\n",
      "297\n",
      "296\n",
      "295\n",
      "294\n",
      "293\n",
      "292\n",
      "291\n",
      "290\n",
      "289\n",
      "288\n",
      "287\n",
      "286\n",
      "285\n",
      "284\n",
      "283\n",
      "282\n",
      "281\n",
      "280\n",
      "279\n",
      "278\n",
      "277\n",
      "276\n",
      "275\n",
      "274\n",
      "273\n",
      "272\n",
      "271\n",
      "270\n",
      "269\n",
      "268\n",
      "267\n",
      "266\n",
      "265\n",
      "264\n",
      "263\n",
      "262\n",
      "261\n",
      "260\n",
      "259\n",
      "258\n",
      "257\n",
      "256\n",
      "255\n",
      "254\n",
      "253\n",
      "252\n",
      "251\n",
      "250\n",
      "249\n",
      "248\n",
      "247\n",
      "246\n",
      "245\n",
      "244\n",
      "243\n",
      "242\n",
      "241\n",
      "240\n",
      "239\n",
      "238\n",
      "237\n",
      "236\n",
      "235\n",
      "234\n",
      "233\n",
      "232\n",
      "231\n",
      "230\n",
      "229\n",
      "228\n",
      "227\n",
      "226\n",
      "225\n",
      "224\n",
      "223\n",
      "222\n",
      "221\n",
      "220\n",
      "219\n",
      "218\n",
      "217\n",
      "216\n",
      "215\n"
     ]
    }
   ],
   "source": [
    "remaining = all - existing\n",
    "# Create and save a figure for each interaction of features\n",
    "for feature1, feature2 in combinations(enriched_features_names + enriched_features_names_exp, 2):\n",
    "    p = PATHS.RUNS_DIR / f'feature_interactions_png/{feature1}_vs_{feature2}_layer_colored.png'\n",
    "    if not p.exists():\n",
    "        fig = plot_feature_interactions(enriched_df, feature1, feature2)\n",
    "        fig.savefig(p)\n",
    "        plt.close(fig)\n",
    "        remaining.remove(p.name[:-4])\n",
    "        print(len(remaining))\n",
    "        \n",
    "    \n",
    "    for num_clusters in [3, 5]:\n",
    "        p = PATHS.RUNS_DIR / f'feature_interactions_png/{feature1}_vs_{feature2}_cluster_{num_clusters}_colored.png'\n",
    "        if not p.exists():\n",
    "            fig = plot_feature_interactions(enriched_df, feature1, feature2, color_feature=f'Cluster_{num_clusters}_enriched_str')\n",
    "            fig.savefig(p)\n",
    "            plt.close(fig)\n",
    "            remaining.remove(p.name[:-4])\n",
    "            print(len(remaining))"
   ]
  },
  {
   "cell_type": "code",
   "execution_count": 3,
   "id": "212120a7",
   "metadata": {},
   "outputs": [
    {
     "name": "stderr",
     "output_type": "stream",
     "text": [
      "Zipping files:  33%|███▎      | 108/329 [22:02<46:46, 12.70s/it] "
     ]
    }
   ],
   "source": [
    "import zipfile\n",
    "import os\n",
    "from tqdm import tqdm\n",
    "\n",
    "# ZIP the files in /home/yandex/DL20232024a/nirendy/repos/ssm_analysis/runs/feature_interactions\n",
    "zipf = zipfile.ZipFile('feature_interactions.zip', 'w', zipfile.ZIP_DEFLATED)\n",
    "for root, _, files in os.walk('/home/yandex/DL20232024a/nirendy/repos/ssm_analysis/runs/feature_interactions'):\n",
    "    for file in tqdm(files, desc=\"Zipping files\"):\n",
    "         zipf.write(os.path.join(root, file), file)\n",
    "        \n",
    "zipf.close()"
   ]
  },
  {
   "cell_type": "code",
   "execution_count": null,
   "id": "4df6e83f",
   "metadata": {},
   "outputs": [],
   "source": []
  }
 ],
 "metadata": {
  "kernelspec": {
   "display_name": "venv",
   "language": "python",
   "name": "python3"
  },
  "language_info": {
   "codemirror_mode": {
    "name": "ipython",
    "version": 3
   },
   "file_extension": ".py",
   "mimetype": "text/x-python",
   "name": "python",
   "nbconvert_exporter": "python",
   "pygments_lexer": "ipython3",
   "version": "3.12.4"
  }
 },
 "nbformat": 4,
 "nbformat_minor": 5
}
