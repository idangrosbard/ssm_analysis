{
 "cells": [
  {
   "metadata": {
    "ExecuteTime": {
     "end_time": "2024-10-12T16:17:36.943516Z",
     "start_time": "2024-10-12T16:17:34.593094Z"
    }
   },
   "cell_type": "code",
   "source": [
    "import time\n",
    "\n",
    "import torch\n",
    "from transformers import AutoTokenizer\n",
    "\n",
    "# from mamba2 import Mamba2LMHeadModel\n",
    "\n",
    "if torch.cuda.is_available():\n",
    "    device = torch.device('cuda')\n",
    "elif torch.backends.mps.is_available():\n",
    "    device = torch.device('mps')\n",
    "else:\n",
    "    device = torch.device('cpu')"
   ],
   "id": "118f619836779bd",
   "outputs": [
    {
     "name": "stderr",
     "output_type": "stream",
     "text": [
      "/Users/nirendy/school-repo/ADL_2/venv/lib/python3.12/site-packages/tqdm/auto.py:21: TqdmWarning: IProgress not found. Please update jupyter and ipywidgets. See https://ipywidgets.readthedocs.io/en/stable/user_install.html\n",
      "  from .autonotebook import tqdm as notebook_tqdm\n"
     ]
    }
   ],
   "execution_count": 1
  },
  {
   "metadata": {
    "ExecuteTime": {
     "end_time": "2024-10-12T16:17:50.896137Z",
     "start_time": "2024-10-12T16:17:50.848429Z"
    }
   },
   "cell_type": "code",
   "source": "from src.models.simple_mamba2 import Mamba2LMHeadModel",
   "id": "be8b6c34e90b89e6",
   "outputs": [],
   "execution_count": 2
  },
  {
   "metadata": {
    "ExecuteTime": {
     "end_time": "2024-10-12T16:18:37.490512Z",
     "start_time": "2024-10-12T16:18:09.846634Z"
    }
   },
   "cell_type": "code",
   "source": [
    "# model = Mamba2LMHeadModel.from_pretrained(\"state-spaces/mamba2-1.3b\", device=device)\n",
    "model = Mamba2LMHeadModel.from_pretrained(\"state-spaces/mamba2-130m\", device=device)\n",
    "tokenizer = AutoTokenizer.from_pretrained(\"EleutherAI/gpt-neox-20b\")\n",
    "tokenizer.pad_token_id = tokenizer.eos_token_id"
   ],
   "id": "ac0f1de97f76a4d3",
   "outputs": [
    {
     "name": "stderr",
     "output_type": "stream",
     "text": [
      "/Users/nirendy/school-repo/ADL_2/venv/lib/python3.12/site-packages/transformers/tokenization_utils_base.py:1617: FutureWarning: `clean_up_tokenization_spaces` was not set. It will be set to `True` by default. This behavior will be deprecated in transformers v4.45, and will be then set to `False` by default. For more details check this issue: https://github.com/huggingface/transformers/issues/31884\n",
      "  warnings.warn(\n"
     ]
    }
   ],
   "execution_count": 3
  },
  {
   "metadata": {
    "ExecuteTime": {
     "end_time": "2024-10-12T16:18:48.226278Z",
     "start_time": "2024-10-12T16:18:48.216711Z"
    }
   },
   "cell_type": "code",
   "source": [
    "def generate(prompt: str, seed: int = 0, show_perf: bool = True):\n",
    "    \"\"\"Generate streaming completion\"\"\"\n",
    "    torch.manual_seed(seed)\n",
    "\n",
    "    input_ids = tokenizer(prompt, return_tensors='pt').input_ids.to(device)[0]\n",
    "    print(prompt, end=\"\")\n",
    "\n",
    "    start = time.process_time()\n",
    "    n_generated = 0\n",
    "    for i, (token_id, _hidden_state) in enumerate(model.generate(input_ids, **generation_config)):\n",
    "        token = tokenizer.decode([token_id])\n",
    "        if i == 0:\n",
    "            now = time.process_time()\n",
    "            prompt_eval_elapsed, start = now - start, now\n",
    "        else:\n",
    "            n_generated += 1\n",
    "        print(token, end=\"\", flush=True)\n",
    "    if show_perf:\n",
    "        elapsed = time.process_time() - start\n",
    "        print('\\n\\n---')\n",
    "        print(f'Prompt eval | tokens: {input_ids.shape[0]} | elapsed: {prompt_eval_elapsed:.2f}s | tok/s: {input_ids.shape[0] / prompt_eval_elapsed:.2f}')\n",
    "        print(f'Generation | tokens: {n_generated} | elapsed: {elapsed:.2f}s | tok/s: {n_generated / elapsed:.2f}')"
   ],
   "id": "40bf7528e5943c58",
   "outputs": [],
   "execution_count": 5
  },
  {
   "metadata": {
    "collapsed": true,
    "ExecuteTime": {
     "end_time": "2024-10-12T16:20:27.074994Z",
     "start_time": "2024-10-12T16:20:27.065897Z"
    }
   },
   "cell_type": "code",
   "source": [
    "generation_config = dict(\n",
    "    max_new_length=10,\n",
    "    # temperature=1.0,\n",
    "    temperature=0.1,\n",
    "    top_k=30,\n",
    "    top_p=1.0,\n",
    ")"
   ],
   "id": "d8e93f430e13ddb5",
   "outputs": [],
   "execution_count": 15
  },
  {
   "metadata": {
    "ExecuteTime": {
     "end_time": "2024-10-12T16:21:15.613517Z",
     "start_time": "2024-10-12T16:21:13.786845Z"
    }
   },
   "cell_type": "code",
   "source": "generate(\"What is the twin city of Lyon? It is \")\n",
   "id": "8aa982b11676923c",
   "outputs": [
    {
     "name": "stdout",
     "output_type": "stream",
     "text": [
      "What is the twin city of Lyon? It is \n",
      "the city of Lyon, France. It is\n",
      "\n",
      "---\n",
      "Prompt eval | tokens: 11 | elapsed: 1.14s | tok/s: 9.67\n",
      "Generation | tokens: 9 | elapsed: 0.51s | tok/s: 17.74\n"
     ]
    }
   ],
   "execution_count": 19
  },
  {
   "metadata": {
    "ExecuteTime": {
     "end_time": "2024-10-12T16:22:45.472717Z",
     "start_time": "2024-10-12T16:22:08.042960Z"
    }
   },
   "cell_type": "code",
   "source": "generate(\"The meaning of life is\")\n",
   "id": "9b8af529ef16ede7",
   "outputs": [
    {
     "name": "stdout",
     "output_type": "stream",
     "text": [
      "The meaning of life is a complex and multifaceted concept. It is\n",
      "\n",
      "---\n",
      "Prompt eval | tokens: 5 | elapsed: 3.85s | tok/s: 1.30\n",
      "Generation | tokens: 9 | elapsed: 1.09s | tok/s: 8.23\n"
     ]
    }
   ],
   "execution_count": 21
  },
  {
   "metadata": {
    "ExecuteTime": {
     "end_time": "2024-10-12T16:20:53.608743Z",
     "start_time": "2024-10-12T16:20:52.189465Z"
    }
   },
   "cell_type": "code",
   "source": "generate(\"CUDA is Nvidia's biggest most\")",
   "id": "5f0c8d7063f3fc98",
   "outputs": [
    {
     "name": "stdout",
     "output_type": "stream",
     "text": [
      "CUDA is Nvidia's biggest most popular GPU, and it's a big reason why\n",
      "\n",
      "---\n",
      "Prompt eval | tokens: 8 | elapsed: 0.94s | tok/s: 8.51\n",
      "Generation | tokens: 9 | elapsed: 0.43s | tok/s: 21.00\n"
     ]
    }
   ],
   "execution_count": 17
  },
  {
   "metadata": {
    "ExecuteTime": {
     "end_time": "2024-10-12T16:20:29.673371Z",
     "start_time": "2024-10-12T16:20:27.144006Z"
    }
   },
   "cell_type": "code",
   "source": "generate(\"1 2 3 4 \")",
   "id": "10ae4190b702525f",
   "outputs": [
    {
     "name": "stdout",
     "output_type": "stream",
     "text": [
      "1 2 3 4 \n",
      "1 2 3 4 \n",
      "1 2 3\n",
      "\n",
      "---\n",
      "Prompt eval | tokens: 5 | elapsed: 0.78s | tok/s: 6.37\n",
      "Generation | tokens: 9 | elapsed: 0.71s | tok/s: 12.61\n"
     ]
    }
   ],
   "execution_count": 16
  },
  {
   "metadata": {},
   "cell_type": "code",
   "outputs": [],
   "execution_count": null,
   "source": "",
   "id": "d0bb0e8bc35c0303"
  }
 ],
 "metadata": {
  "kernelspec": {
   "display_name": "Python 3",
   "language": "python",
   "name": "python3"
  },
  "language_info": {
   "codemirror_mode": {
    "name": "ipython",
    "version": 2
   },
   "file_extension": ".py",
   "mimetype": "text/x-python",
   "name": "python",
   "nbconvert_exporter": "python",
   "pygments_lexer": "ipython2",
   "version": "2.7.6"
  }
 },
 "nbformat": 4,
 "nbformat_minor": 5
}
